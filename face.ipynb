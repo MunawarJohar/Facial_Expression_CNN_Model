{
 "cells": [
  {
   "cell_type": "code",
   "execution_count": 6,
   "id": "1f96f4e2",
   "metadata": {},
   "outputs": [
    {
     "name": "stdout",
     "output_type": "stream",
     "text": [
      "D:/computer vision/input\\test_images.npy\n",
      "D:/computer vision/input\\test_labels.npy\n",
      "D:/computer vision/input\\train_images.npy\n",
      "D:/computer vision/input\\train_labels.npy\n"
     ]
    }
   ],
   "source": [
    "import numpy as np\n",
    "import tensorflow as tf\n",
    "from tensorflow import keras\n",
    "from tensorflow.keras import layers\n",
    "import numpy as np\n",
    "import pandas as pd\n",
    "\n",
    "# Input data files are available in the read-only \"../input/\" directory\n",
    "# For example, running this (by clicking run or pressing Shift+Enter) will list all files under the input directory\n",
    "\n",
    "import os\n",
    "for dirname, _, filenames in os.walk('D:/computer vision/input'):\n",
    "    for filename in filenames:\n",
    "        print(os.path.join(dirname, filename))\n",
    "\n",
    "# You can write up to 20GB to the current directory (/kaggle/working/) that gets preserved as output when you create a version using \"Save & Run All\" \n",
    "# You can also write temporary files to /kaggle/temp/, but they won't be saved outside of the current session"
   ]
  },
  {
   "cell_type": "code",
   "execution_count": 7,
   "id": "788ebfa8",
   "metadata": {},
   "outputs": [],
   "source": [
    "train_images = np.load(\"input/test_images.npy\")\n",
    "train_labels = np.load(\"input/test_labels.npy\")\n",
    "test_images = np.load (\"input/train_images.npy\")\n",
    "test_labels = np.load(\"input/train_labels.npy\")"
   ]
  },
  {
   "cell_type": "code",
   "execution_count": 8,
   "id": "3fe29744",
   "metadata": {},
   "outputs": [
    {
     "name": "stdout",
     "output_type": "stream",
     "text": [
      "(7178, 48, 48)\n",
      "(7178,)\n",
      "(28709, 48, 48)\n",
      "(28709,)\n"
     ]
    }
   ],
   "source": [
    "print(train_images.shape)\n",
    "print(train_labels.shape)\n",
    "print(test_images.shape)\n",
    "print(test_labels.shape)"
   ]
  },
  {
   "cell_type": "code",
   "execution_count": 9,
   "id": "76696aab",
   "metadata": {},
   "outputs": [
    {
     "data": {
      "text/plain": [
       "['', 'angry', 'disgust', 'fear', 'happy', 'neutral', 'sad', 'surprise']"
      ]
     },
     "execution_count": 9,
     "metadata": {},
     "output_type": "execute_result"
    }
   ],
   "source": [
    "label_names = ['','angry','disgust','fear','happy','neutral','sad','surprise']\n",
    "label_names"
   ]
  },
  {
   "cell_type": "code",
   "execution_count": 10,
   "id": "c3b0d59b",
   "metadata": {},
   "outputs": [
    {
     "name": "stdout",
     "output_type": "stream",
     "text": [
      "label =  fear\n"
     ]
    },
    {
     "data": {
      "image/png": "[encoded data removed]",
      "text/plain": [
       "<Figure size 640x480 with 1 Axes>"
      ]
     },
     "metadata": {},
     "output_type": "display_data"
    }
   ],
   "source": [
    "import matplotlib.pyplot as plt\n",
    "plt.imshow(train_images[1400])\n",
    "print(\"label = \",label_names[train_labels[1400]])"
   ]
  },
  {
   "cell_type": "code",
   "execution_count": 11,
   "id": "b7c90759",
   "metadata": {},
   "outputs": [
    {
     "name": "stdout",
     "output_type": "stream",
     "text": [
      "Unique labels in training data: [0 1 2 3 4 5 6]\n",
      "Unique labels in testing data: [0 1 2 3 4 5 6]\n"
     ]
    }
   ],
   "source": [
    "# Normalize pixel values to range [0, 1]\n",
    "train_images = train_images.astype('float32') / 255.0\n",
    "test_images = test_images.astype('float32') / 255.0\n",
    "\n",
    "# Adjust labels to start from 0 (subtract 1 from all label values)\n",
    "train_labels = train_labels - 1\n",
    "test_labels = test_labels - 1\n",
    "\n",
    "# Check the unique labels in the training dataset\n",
    "unique_labels_train = np.unique(train_labels)\n",
    "print(\"Unique labels in training data:\", unique_labels_train)\n",
    "\n",
    "# Check the unique labels in the testing dataset\n",
    "unique_labels_test = np.unique(test_labels)\n",
    "print(\"Unique labels in testing data:\", unique_labels_test)"
   ]
  },
  {
   "cell_type": "code",
   "execution_count": 12,
   "id": "bd4cd709",
   "metadata": {},
   "outputs": [
    {
     "name": "stdout",
     "output_type": "stream",
     "text": [
      "Image height: 48\n",
      "Image width: 48\n",
      "Number of channels: 1\n"
     ]
    }
   ],
   "source": [
    "# Convert images to single-channel format (add an extra dimension for the channel)\n",
    "train_images = np.expand_dims(train_images, axis=-1)\n",
    "test_images = np.expand_dims(test_images, axis=-1)\n",
    "\n",
    "# Convert labels to one-hot encoded format\n",
    "num_classes = len(np.unique(train_labels))\n",
    "train_labels = keras.utils.to_categorical(train_labels, num_classes)\n",
    "test_labels = keras.utils.to_categorical(test_labels, num_classes)\n",
    "\n",
    "# Determine the image size from the data\n",
    "image_height, image_width, num_channels = train_images.shape[1:]\n",
    "print(\"Image height:\", image_height)\n",
    "print(\"Image width:\", image_width)\n",
    "print(\"Number of channels:\", num_channels)\n"
   ]
  },
  {
   "cell_type": "code",
   "execution_count": 13,
   "id": "716fe67a",
   "metadata": {},
   "outputs": [
    {
     "name": "stdout",
     "output_type": "stream",
     "text": [
      "Model: \"sequential\"\n",
      "_________________________________________________________________\n",
      " Layer (type)                Output Shape              Param #   \n",
      "=================================================================\n",
      " conv2d (Conv2D)             (None, 46, 46, 32)        320       \n",
      "                                                                 \n",
      " max_pooling2d (MaxPooling2D  (None, 23, 23, 32)       0         \n",
      " )                                                               \n",
      "                                                                 \n",
      " conv2d_1 (Conv2D)           (None, 21, 21, 64)        18496     \n",
      "                                                                 \n",
      " max_pooling2d_1 (MaxPooling  (None, 10, 10, 64)       0         \n",
      " 2D)                                                             \n",
      "                                                                 \n",
      " conv2d_2 (Conv2D)           (None, 8, 8, 128)         73856     \n",
      "                                                                 \n",
      " flatten (Flatten)           (None, 8192)              0         \n",
      "                                                                 \n",
      " dense (Dense)               (None, 128)               1048704   \n",
      "                                                                 \n",
      " dense_1 (Dense)             (None, 7)                 903       \n",
      "                                                                 \n",
      "=================================================================\n",
      "Total params: 1,142,279\n",
      "Trainable params: 1,142,279\n",
      "Non-trainable params: 0\n",
      "_________________________________________________________________\n"
     ]
    }
   ],
   "source": [
    "# Build the custom CNN model\n",
    "model = keras.Sequential([\n",
    "    layers.Conv2D(32, (3, 3), activation='relu', input_shape=(image_height, image_width, num_channels)),\n",
    "    layers.MaxPooling2D((2, 2)),\n",
    "    layers.Conv2D(64, (3, 3), activation='relu'),\n",
    "    layers.MaxPooling2D((2, 2)),\n",
    "    layers.Conv2D(128, (3, 3), activation='relu'),\n",
    "    layers.Flatten(),\n",
    "    layers.Dense(128, activation='relu'),\n",
    "    layers.Dense(num_classes, activation='softmax')\n",
    "])\n",
    "\n",
    "model.summary()"
   ]
  },
  {
   "cell_type": "code",
   "execution_count": 14,
   "id": "d470f8de",
   "metadata": {},
   "outputs": [],
   "source": [
    "model.compile(optimizer='adam',\n",
    "              loss='categorical_crossentropy',\n",
    "              metrics=['accuracy'])"
   ]
  },
  {
   "cell_type": "code",
   "execution_count": 15,
   "id": "f4babe95",
   "metadata": {},
   "outputs": [
    {
     "name": "stdout",
     "output_type": "stream",
     "text": [
      "Epoch 1/10\n",
      "101/101 [==============================] - 20s 185ms/step - loss: 1.7132 - accuracy: 0.2729 - val_loss: 3.9984 - val_accuracy: 0.0000e+00\n",
      "Epoch 2/10\n",
      "101/101 [==============================] - 18s 174ms/step - loss: 1.6499 - accuracy: 0.3249 - val_loss: 4.1474 - val_accuracy: 0.0000e+00\n",
      "Epoch 3/10\n",
      "101/101 [==============================] - 17s 168ms/step - loss: 1.5339 - accuracy: 0.3983 - val_loss: 3.7369 - val_accuracy: 0.0000e+00\n",
      "Epoch 4/10\n",
      "101/101 [==============================] - 17s 168ms/step - loss: 1.4566 - accuracy: 0.4248 - val_loss: 4.1127 - val_accuracy: 0.0000e+00\n",
      "Epoch 5/10\n",
      "101/101 [==============================] - 18s 179ms/step - loss: 1.3758 - accuracy: 0.4644 - val_loss: 3.1124 - val_accuracy: 0.0056\n",
      "Epoch 6/10\n",
      "101/101 [==============================] - 19s 187ms/step - loss: 1.3008 - accuracy: 0.4912 - val_loss: 3.4988 - val_accuracy: 0.0557\n",
      "Epoch 7/10\n",
      "101/101 [==============================] - 17s 173ms/step - loss: 1.2119 - accuracy: 0.5331 - val_loss: 2.4621 - val_accuracy: 0.2075\n",
      "Epoch 8/10\n",
      "101/101 [==============================] - 18s 178ms/step - loss: 1.1362 - accuracy: 0.5717 - val_loss: 3.1127 - val_accuracy: 0.1866\n",
      "Epoch 9/10\n",
      "101/101 [==============================] - 19s 188ms/step - loss: 1.0384 - accuracy: 0.6043 - val_loss: 3.2746 - val_accuracy: 0.2563\n",
      "Epoch 10/10\n",
      "101/101 [==============================] - 18s 177ms/step - loss: 0.9307 - accuracy: 0.6505 - val_loss: 3.3419 - val_accuracy: 0.2409\n"
     ]
    },
    {
     "data": {
      "text/plain": [
       "<keras.callbacks.History at 0x24c8ffdfe50>"
      ]
     },
     "execution_count": 15,
     "metadata": {},
     "output_type": "execute_result"
    }
   ],
   "source": [
    "batch_size = 64\n",
    "epochs = 10\n",
    "\n",
    "model.fit(train_images, train_labels, batch_size=batch_size, epochs=epochs, validation_split=0.1)"
   ]
  },
  {
   "cell_type": "code",
   "execution_count": null,
   "id": "3cb931e8",
   "metadata": {},
   "outputs": [
    {
     "name": "stdout",
     "output_type": "stream",
     "text": [
      "305/898 [=========>....................] - ETA: 18s - loss: 1.6875 - accuracy: 0.3782"
     ]
    }
   ],
   "source": [
    "test_loss, test_accuracy = model.evaluate(test_images, test_labels, verbose=\"auto\")\n",
    "print(f'Test accuracy: {test_accuracy}')"
   ]
  },
  {
   "cell_type": "code",
   "execution_count": null,
   "id": "66068834",
   "metadata": {},
   "outputs": [],
   "source": [
    "predictions = model.predict(test_images)"
   ]
  },
  {
   "cell_type": "code",
   "execution_count": null,
   "id": "13b56ef9",
   "metadata": {},
   "outputs": [],
   "source": [
    "# Convert one-hot encoded predictions to class labels\n",
    "predicted_labels = np.argmax(predictions, axis=1)\n",
    "\n",
    "# Convert one-hot encoded true labels to class labels\n",
    "true_labels = np.argmax(test_labels, axis=1)\n",
    "\n",
    "# Calculate predicted accuracy\n",
    "predicted_accuracy = np.mean(predicted_labels == true_labels)\n",
    "print(f'Predicted accuracy: {predicted_accuracy}')"
   ]
  },
  {
   "cell_type": "code",
   "execution_count": null,
   "id": "0b10de7d",
   "metadata": {},
   "outputs": [],
   "source": []
  }
 ],
 "metadata": {
  "kernelspec": {
   "display_name": "Python 3 (ipykernel)",
   "language": "python",
   "name": "python3"
  },
  "language_info": {
   "codemirror_mode": {
    "name": "ipython",
    "version": 3
   },
   "file_extension": ".py",
   "mimetype": "text/x-python",
   "name": "python",
   "nbconvert_exporter": "python",
   "pygments_lexer": "ipython3",
   "version": "3.10.4"
  }
 },
 "nbformat": 4,
 "nbformat_minor": 5
}
